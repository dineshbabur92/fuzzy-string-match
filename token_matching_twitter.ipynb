{
 "cells": [
  {
   "cell_type": "code",
   "execution_count": 1,
   "metadata": {
    "collapsed": false
   },
   "outputs": [
    {
     "name": "stdout",
     "output_type": "stream",
     "text": [
      "done!!!\n"
     ]
    }
   ],
   "source": [
    "import pandas as pd\n",
    "twitter_handles_df = pd.read_csv(\"handle_values_twitter_30lakh1.csv\", header = None, names=[\"handle\"])\n",
    "print(\"done!!!\")"
   ]
  },
  {
   "cell_type": "code",
   "execution_count": 2,
   "metadata": {
    "collapsed": false
   },
   "outputs": [
    {
     "data": {
      "text/html": [
       "<div>\n",
       "<table border=\"1\" class=\"dataframe\">\n",
       "  <thead>\n",
       "    <tr style=\"text-align: right;\">\n",
       "      <th></th>\n",
       "      <th>handle</th>\n",
       "      <th>handle_trimmed</th>\n",
       "    </tr>\n",
       "  </thead>\n",
       "  <tbody>\n",
       "    <tr>\n",
       "      <th>0</th>\n",
       "      <td>@YouTube</td>\n",
       "      <td>youtube</td>\n",
       "    </tr>\n",
       "    <tr>\n",
       "      <th>1</th>\n",
       "      <td>@eBay</td>\n",
       "      <td>ebay</td>\n",
       "    </tr>\n",
       "    <tr>\n",
       "      <th>2</th>\n",
       "      <td>@bio</td>\n",
       "      <td>bio</td>\n",
       "    </tr>\n",
       "    <tr>\n",
       "      <th>3</th>\n",
       "      <td>@poshmarkapp</td>\n",
       "      <td>poshmarkapp</td>\n",
       "    </tr>\n",
       "    <tr>\n",
       "      <th>4</th>\n",
       "      <td>@realDonaldTrump</td>\n",
       "      <td>realdonaldtrump</td>\n",
       "    </tr>\n",
       "  </tbody>\n",
       "</table>\n",
       "</div>"
      ],
      "text/plain": [
       "             handle   handle_trimmed\n",
       "0          @YouTube          youtube\n",
       "1             @eBay             ebay\n",
       "2              @bio              bio\n",
       "3      @poshmarkapp      poshmarkapp\n",
       "4  @realDonaldTrump  realdonaldtrump"
      ]
     },
     "execution_count": 2,
     "metadata": {},
     "output_type": "execute_result"
    }
   ],
   "source": [
    "def camel_case_split(value):\n",
    "    value = value[1:0]\n",
    "    matches = finditer('.+?(?:(?<=[a-z])(?=[A-Z])|(?<=[A-Z])(?=[A-Z][a-z])|$)', \"____\")\n",
    "    return [m.group(0) for m in matches]\n",
    "\n",
    "twitter_handles_df[\"handle_trimmed\"] = twitter_handles_df[\"handle\"].apply(lambda s: s[1:].lower())\n",
    "twitter_handles_df.count"
   ]
  },
  {
   "cell_type": "code",
   "execution_count": 37,
   "metadata": {
    "collapsed": false
   },
   "outputs": [
    {
     "data": {
      "text/plain": [
       "<bound method DataFrame.count of                    handle   handle_trimmed  key\n",
       "0                @YouTube          youtube    1\n",
       "1                   @eBay             ebay    1\n",
       "2                    @bio              bio    1\n",
       "3            @poshmarkapp      poshmarkapp    1\n",
       "4        @realDonaldTrump  realdonaldtrump    1\n",
       "5                   @Etsy             etsy    1\n",
       "6            @AvonInsider      avoninsider    1\n",
       "7             @MarcBeauty       marcbeauty    1\n",
       "8           @ABHcosmetics     abhcosmetics    1\n",
       "9            @itcosmetics      itcosmetics    1\n",
       "10                @amazon           amazon    1\n",
       "11           @JeffreeStar      jeffreestar    1\n",
       "12               @FoxNews          foxnews    1\n",
       "13       @beauxbeautyblog  beauxbeautyblog    1\n",
       "14        @tartecosmetics   tartecosmetics    1\n",
       "15                 @POTUS            potus    1\n",
       "16                @Listia           listia    1\n",
       "17         @MorpheBrushes    morphebrushes    1\n",
       "18           @ColourPopCo      colourpopco    1\n",
       "19        @InfluensterVox   influenstervox    1\n",
       "20               @Sephora          sephora    1\n",
       "21             @urbandoll        urbandoll    1\n",
       "22            @Jaclynhill       jaclynhill    1\n",
       "23           @Influenster      influenster    1\n",
       "24          @NyxCosmetics     nyxcosmetics    1\n",
       "25          @DealsAmongUs     dealsamongus    1\n",
       "26             @bloglovin        bloglovin    1\n",
       "27                   @CNN              cnn    1\n",
       "28            @TomiLahren       tomilahren    1\n",
       "29                 @yotpo            yotpo    1\n",
       "...                   ...              ...  ...\n",
       "1234689         @zzldoirs         zzldoirs    1\n",
       "1234690         @zzmaddie         zzmaddie    1\n",
       "1234691   @zzoltarspeakss   zzoltarspeakss    1\n",
       "1234692      @zzonzzon_00      zzonzzon_00    1\n",
       "1234693        @zzoo_iiee        zzoo_iiee    1\n",
       "1234694           @zzopit           zzopit    1\n",
       "1234695         @zzorba42         zzorba42    1\n",
       "1234696      @zztopportal      zztopportal    1\n",
       "1234697       @zzuBkaruaL       zzubkarual    1\n",
       "1234698        @zzuuurrii        zzuuurrii    1\n",
       "1234699           @zzvikc           zzvikc    1\n",
       "1234700         @zzx_9111         zzx_9111    1\n",
       "1234701        @zzz0mbiie        zzz0mbiie    1\n",
       "1234702            @zzzJV            zzzjv    1\n",
       "1234703     @zzz_thoughts     zzz_thoughts    1\n",
       "1234704  @zzzanthropology  zzzanthropology    1\n",
       "1234705  @zzzappbrannigan  zzzappbrannigan    1\n",
       "1234706         @zzzaynxh         zzzaynxh    1\n",
       "1234707       @zzzertweet       zzzertweet    1\n",
       "1234708      @zzzgalactic      zzzgalactic    1\n",
       "1234709         @zzzjenna         zzzjenna    1\n",
       "1234710           @zzzldn           zzzldn    1\n",
       "1234711        @zzzoei101        zzzoei101    1\n",
       "1234712        @zzzoooman        zzzoooman    1\n",
       "1234713        @zzzrairai        zzzrairai    1\n",
       "1234714         @zzzzmana         zzzzmana    1\n",
       "1234715      @ÜmberHealth      ümberhealth    1\n",
       "1234716              @ñst              ñst    1\n",
       "1234717         @ᴘʀɪɴᴄᴇss         ᴘʀɪɴᴄᴇss    1\n",
       "1234718         @ℳelialea         ℳelialea    1\n",
       "\n",
       "[1234719 rows x 3 columns]>"
      ]
     },
     "execution_count": 37,
     "metadata": {},
     "output_type": "execute_result"
    }
   ],
   "source": [
    "twitter_handles_df.count"
   ]
  },
  {
   "cell_type": "code",
   "execution_count": null,
   "metadata": {
    "collapsed": false
   },
   "outputs": [],
   "source": [
    "import re\n",
    "re.sub('[A-Z]',\"___\", \"YouTube\")"
   ]
  },
  {
   "cell_type": "code",
   "execution_count": 3,
   "metadata": {
    "collapsed": false,
    "scrolled": true
   },
   "outputs": [
    {
     "name": "stdout",
     "output_type": "stream",
     "text": [
      "done!\n"
     ]
    },
    {
     "data": {
      "text/html": [
       "<div>\n",
       "<table border=\"1\" class=\"dataframe\">\n",
       "  <thead>\n",
       "    <tr style=\"text-align: right;\">\n",
       "      <th></th>\n",
       "      <th>brand_name</th>\n",
       "      <th>brand_name_trimmed</th>\n",
       "    </tr>\n",
       "  </thead>\n",
       "  <tbody>\n",
       "    <tr>\n",
       "      <th>0</th>\n",
       "      <td>BLACK RADIANCE</td>\n",
       "      <td>black radiance</td>\n",
       "    </tr>\n",
       "    <tr>\n",
       "      <th>1</th>\n",
       "      <td>L.A. COLORS</td>\n",
       "      <td>la colors</td>\n",
       "    </tr>\n",
       "    <tr>\n",
       "      <th>2</th>\n",
       "      <td>MAX FACTOR</td>\n",
       "      <td>max factor</td>\n",
       "    </tr>\n",
       "    <tr>\n",
       "      <th>3</th>\n",
       "      <td>NONIE CREME COLOUR PREVAILS</td>\n",
       "      <td>nonie creme colour prevails</td>\n",
       "    </tr>\n",
       "    <tr>\n",
       "      <th>4</th>\n",
       "      <td>PURE ICE</td>\n",
       "      <td>pure ice</td>\n",
       "    </tr>\n",
       "  </tbody>\n",
       "</table>\n",
       "</div>"
      ],
      "text/plain": [
       "                    brand_name           brand_name_trimmed\n",
       "0               BLACK RADIANCE               black radiance\n",
       "1                  L.A. COLORS                    la colors\n",
       "2                   MAX FACTOR                   max factor\n",
       "3  NONIE CREME COLOUR PREVAILS  nonie creme colour prevails\n",
       "4                     PURE ICE                     pure ice"
      ]
     },
     "execution_count": 3,
     "metadata": {},
     "output_type": "execute_result"
    }
   ],
   "source": [
    "import re\n",
    "brands_df = pd.read_csv(\"D:\\\\Data\\\\Dinesh\\\\Work\\\\revlon\\\\fuzzy_classification\\\\twitter_brands_na.csv\", header = None, names= [\"brand_name\"])\n",
    "brands_df[\"brand_name_trimmed\"] = brands_df[\"brand_name\"].apply(lambda s: re.sub('[^a-zA-Z0-9 ]', '', s).lower())\n",
    "\n",
    "print(\"done!\")\n",
    "brands_df.head()"
   ]
  },
  {
   "cell_type": "code",
   "execution_count": 39,
   "metadata": {
    "collapsed": false
   },
   "outputs": [
    {
     "name": "stdout",
     "output_type": "stream",
     "text": [
      "done: 5827, result: ['PINCH PROVISIONS', '@pinchme', 1, 0.5]\n",
      "finished\n"
     ]
    }
   ],
   "source": [
    "# def find_match(left):\n",
    "#     print(left)\n",
    "\n",
    "from IPython.display import clear_output\n",
    "import math\n",
    "twitter_handles_df[\"key\"] = 1\n",
    "brands_df[\"key\"] = 1\n",
    "twitter_handles = twitter_handles_df.values.tolist()\n",
    "brands = brands_df.values.tolist()\n",
    "# combinations[\"flag\"] = df_cartesian.apply(find_match)\n",
    "# del combinations.key\n",
    "# combinations.head()\n",
    "brands[0]\n",
    "\n",
    "results = []\n",
    "print(\"started\")\n",
    "for ind, brand in enumerate(brands):\n",
    "    brand_name = brand[1]\n",
    "    brand_words = brand_name.split(\" \")\n",
    "#     print(brand_words)\n",
    "    max_matched_words = 0 - math.inf\n",
    "#     max_matched_words = []\n",
    "    so_far_matching_handle = None\n",
    "    match_perc = None\n",
    "    handle_breakdown = None\n",
    "#     max_match_perc = 0\n",
    "    for handle in twitter_handles:\n",
    "        handle_value = handle[1]\n",
    "#         handle_words = []\n",
    "#         value = handle[0][1:]\n",
    "#         before_first_cl = value[0: re.search(\"[A-Z]\", value).start() if re.search(\"[A-Z]\", value) is not None else len(value)]\n",
    "#         print(\"before first cl, \" + before_first_cl)\n",
    "#         if len(before_first_cl) > 0:\n",
    "#             handle_words.append(before_first_cl)\n",
    "#         handle_words.extend(re.findall('[A-Z][^A-Z]*', value))\n",
    "#         if(len(handle_words) == 0):\n",
    "#             handle_words.append(handle[0][1:])\n",
    "#         matching_words = 0\n",
    "#         temp = \"\"\n",
    "#         new_handle_words = []\n",
    "#         for w in handle_words:\n",
    "#             if len(w) == 1:\n",
    "#                 temp += w\n",
    "#                 print(temp)\n",
    "#             else:\n",
    "#                 new_handle_words.append(w)\n",
    "#                 print(len(temps))\n",
    "#                 if len(temp) > 0:\n",
    "#                     print(temp)\n",
    "#                     new_handle_words.append(temp)\n",
    "#                     temp = \"\"\n",
    "#         if len(temp) > 0:\n",
    "#             print(\"appending temp\")\n",
    "#             new_handle_words.append(temp)\n",
    "#             temp = \"\"\n",
    "#         if(len(new_handle_words) == 0):\n",
    "#         print(str(handle[0][1:]) + \" \" + str(handle_words) + \" \" + str(new_handle_words))\n",
    "#         for handle_name in new_handle_words:\n",
    "        matching_words = 0\n",
    "        for word in brand_words:\n",
    "            if word in handle_value: # and len(word)/len(handle_name) > .20) or (handle_name in word and len(handle_name)/len(word) > .20):\n",
    "                matching_words += 1\n",
    "#         match_perc = (matching_words / len(brand_words) * len(new_handle_words))\n",
    "#         if(match_perc ==1 or (len(brand_words)>2 and match_perc >= .75)):\n",
    "            if(matching_words > max_matched_words):\n",
    "                so_far_matching_handle = handle[0]\n",
    "                max_matched_words = matching_words\n",
    "#                 handle_breakdown.append(new_handle_words)\n",
    "#             max_match_perc = match_perc if match_perc > max_match_perc else max_match_perc\n",
    "            match_perc = max_matched_words/len(brand_words)\n",
    "    results.append([brand[0], so_far_matching_handle, max_matched_words, match_perc])\n",
    "    clear_output()\n",
    "    print(\"done: \" + str(ind) + \", result: \" + str(results[-1]))\n",
    "\n",
    "print(\"finished\")\n",
    "            "
   ]
  },
  {
   "cell_type": "code",
   "execution_count": 41,
   "metadata": {
    "collapsed": false
   },
   "outputs": [
    {
     "name": "stdout",
     "output_type": "stream",
     "text": [
      "done\n"
     ]
    }
   ],
   "source": [
    "df = pd.DataFrame(results, columns = [\"brand\", \"matched_handle\", \"max_matched_words\", \"match_ratio\"])\n",
    "df.to_csv(\"twitter_token_match.csv\")\n",
    "print(\"done\")"
   ]
  },
  {
   "cell_type": "code",
   "execution_count": 34,
   "metadata": {
    "collapsed": false
   },
   "outputs": [
    {
     "name": "stdout",
     "output_type": "stream",
     "text": [
      "9Hello World!\n"
     ]
    }
   ],
   "source": [
    "# handle_words = re.findall('[A-Z][^A-Z]*', 'NYC')\n",
    "# print(handle_words)\n",
    "# temp = \"\"\n",
    "# new_handle_words = []\n",
    "# for w in handle_words:\n",
    "#     if len(w) == 1:\n",
    "#         temp += w\n",
    "#         print(temp)\n",
    "#     else:\n",
    "#         new_handle_words.append(w)\n",
    "#         print(len(temp))\n",
    "#         if len(temp) > 0:\n",
    "#             print(\"appending temp\")\n",
    "#             new_handle_words.append(temp)\n",
    "#             temp = \"\"\n",
    "\n",
    "# if len(temp) > 0:\n",
    "#     print(\"appending temp\")\n",
    "#     new_handle_words.append(temp)\n",
    "#     temp = \"\"\n",
    "# print(new_handle_words)\n",
    "\n",
    "# str = \"elegantBay\"\n",
    "# re.search(\"[A-Z]\", str).start()\n",
    "# str = str[0:re.search(\"[A-Z]\", str).start()]\n",
    "# str\n",
    "\n",
    "from IPython.display import clear_output\n",
    "\n",
    "for i in range(10):\n",
    "    clear_output()\n",
    "    print(str(i) + \"Hello World!\")"
   ]
  }
 ],
 "metadata": {
  "kernelspec": {
   "display_name": "Python 3",
   "language": "python",
   "name": "python3"
  },
  "language_info": {
   "codemirror_mode": {
    "name": "ipython",
    "version": 3
   },
   "file_extension": ".py",
   "mimetype": "text/x-python",
   "name": "python",
   "nbconvert_exporter": "python",
   "pygments_lexer": "ipython3",
   "version": "3.6.0"
  }
 },
 "nbformat": 4,
 "nbformat_minor": 2
}
